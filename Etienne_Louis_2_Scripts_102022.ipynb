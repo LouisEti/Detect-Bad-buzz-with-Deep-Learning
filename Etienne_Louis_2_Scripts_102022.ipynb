{
 "cells": [
  {
   "cell_type": "markdown",
   "id": "0aee2253",
   "metadata": {},
   "source": [
    "# Detect Bad Buzz thanks to deep learning"
   ]
  },
  {
   "cell_type": "markdown",
   "id": "2cb0f003",
   "metadata": {},
   "source": [
    "As an AI Engineer in *Marketing Intelligence Consulting* company, I've been hired to detect Bad Buzz for *Air Paradis* an aeronautical company. They want me to develop a prototype to predict the sentiment of a given tweet. As we don't have any tweets from *Air Paradis*, we use an open-source collection available at this link : <a href=\"https://www.kaggle.com/datasets/kazanova/sentiment140\">Database</a>. In this dataset, we will only focus on the tweets and their nature, either positive or negative.\n",
    "<br><br>To make this possible, we will use 3 differents models :\n",
    " - A simple model like a logistic regression\n",
    " - **An advanced model based on deep learning architecture using different word embeddings** (this is on this model we will focus on)\n",
    " - An overview of a BERT model and how does it well performed on this sentiment analysis task"
   ]
  },
  {
   "cell_type": "markdown",
   "id": "a1d47898",
   "metadata": {},
   "source": [
    "# Librairies importation"
   ]
  },
  {
   "cell_type": "code",
   "execution_count": 2,
   "id": "aee26b3b",
   "metadata": {},
   "outputs": [
    {
     "name": "stdout",
     "output_type": "stream",
     "text": [
      "2.10.0\n"
     ]
    }
   ],
   "source": [
    "import tensorflow as tf\n",
    "import keras\n",
    "print(keras.__version__)"
   ]
  },
  {
   "cell_type": "code",
   "execution_count": 3,
   "id": "ee34691c",
   "metadata": {},
   "outputs": [],
   "source": [
    "import os\n",
    "import pandas as pd\n",
    "import numpy as np\n",
    "import matplotlib.pyplot as plt\n",
    "import seaborn as sns\n",
    "import joblib\n",
    "import pickle\n",
    "import itertools\n",
    "from time import perf_counter, sleep\n",
    "\n",
    "from sklearn.linear_model import LogisticRegression\n",
    "from sklearn.model_selection import GridSearchCV\n",
    "from sklearn.model_selection import train_test_split\n",
    "from sklearn.feature_extraction.text import TfidfVectorizer\n",
    "from sklearn.utils import shuffle\n",
    "from sklearn.metrics import confusion_matrix,f1_score,classification_report\n",
    "\n",
    "from nltk.tokenize import RegexpTokenizer\n",
    "from nltk.corpus import stopwords\n",
    "\n",
    "import gensim\n",
    "from gensim.parsing.preprocessing import remove_stopwords, strip_non_alphanum, strip_short\n",
    "import gensim.models.keyedvectors as word2vec\n",
    "import gensim.corpora as corpora \n",
    "from gensim.utils import simple_preprocess\n",
    "from gensim.models.coherencemodel import CoherenceModel \n",
    "\n",
    "import spacy\n",
    "\n",
    "import tensorflow as tf \n",
    "import tensorflow_hub as hub\n",
    "from tensorflow.keras.layers import Embedding, Dropout, LSTM, Dense\n",
    "import keras\n",
    "from keras.preprocessing.text import Tokenizer\n",
    "from keras.models import load_model\n",
    "from keras.optimizers import Adam\n",
    "from keras_preprocessing.sequence import pad_sequences\n",
    "from keras.callbacks import ModelCheckpoint\n",
    "\n",
    "from transformers import *\n",
    "from transformers import BertTokenizer, TFBertModel, BertConfig\n",
    "\n",
    "import warnings \n",
    "warnings.filterwarnings(\"ignore\")\n",
    "\n",
    "from transformers import logging\n",
    "logging.set_verbosity_error()"
   ]
  },
  {
   "cell_type": "markdown",
   "id": "b3128c3c",
   "metadata": {},
   "source": [
    "### Path direction "
   ]
  },
  {
   "cell_type": "code",
   "execution_count": 3,
   "id": "51c58679",
   "metadata": {},
   "outputs": [],
   "source": [
    "dirname = r\"D:\\Users\\Loulou\\Dropbox\\OpenClassrooms\\P7\"\n",
    "tweets_csv = os.path.join(dirname, \"Database_tweets.csv\")"
   ]
  },
  {
   "cell_type": "markdown",
   "id": "3da2f633",
   "metadata": {},
   "source": [
    "### Loading Dataset\n",
    "The Dataset loaded contains multiple headers that give some information about the tweet made like :\n",
    "- Sentiment : either '4' for positives comments or '0' for negatives ones\n",
    "- ids : id of those who tweet\n",
    "- date : date of the tweet \n",
    "- flag : special information about the tweet \n",
    "- user : name of those who tweet \n",
    "- text : tweet itself"
   ]
  },
  {
   "cell_type": "code",
   "execution_count": 4,
   "id": "a161bd21",
   "metadata": {},
   "outputs": [],
   "source": [
    "dataset_columns = [\"sentiment\", \"ids\", \"date\", \"flag\", \"user\", \"text\"]\n",
    "data = pd.read_csv(tweets_csv, names=dataset_columns, encoding='latin-1')"
   ]
  },
  {
   "cell_type": "code",
   "execution_count": 5,
   "id": "c949023e",
   "metadata": {},
   "outputs": [
    {
     "data": {
      "text/html": [
       "<div>\n",
       "<style scoped>\n",
       "    .dataframe tbody tr th:only-of-type {\n",
       "        vertical-align: middle;\n",
       "    }\n",
       "\n",
       "    .dataframe tbody tr th {\n",
       "        vertical-align: top;\n",
       "    }\n",
       "\n",
       "    .dataframe thead th {\n",
       "        text-align: right;\n",
       "    }\n",
       "</style>\n",
       "<table border=\"1\" class=\"dataframe\">\n",
       "  <thead>\n",
       "    <tr style=\"text-align: right;\">\n",
       "      <th></th>\n",
       "      <th>sentiment</th>\n",
       "      <th>ids</th>\n",
       "      <th>date</th>\n",
       "      <th>flag</th>\n",
       "      <th>user</th>\n",
       "      <th>text</th>\n",
       "    </tr>\n",
       "  </thead>\n",
       "  <tbody>\n",
       "    <tr>\n",
       "      <th>0</th>\n",
       "      <td>0</td>\n",
       "      <td>1467810369</td>\n",
       "      <td>Mon Apr 06 22:19:45 PDT 2009</td>\n",
       "      <td>NO_QUERY</td>\n",
       "      <td>_TheSpecialOne_</td>\n",
       "      <td>@switchfoot http://twitpic.com/2y1zl - Awww, t...</td>\n",
       "    </tr>\n",
       "    <tr>\n",
       "      <th>1</th>\n",
       "      <td>0</td>\n",
       "      <td>1467810672</td>\n",
       "      <td>Mon Apr 06 22:19:49 PDT 2009</td>\n",
       "      <td>NO_QUERY</td>\n",
       "      <td>scotthamilton</td>\n",
       "      <td>is upset that he can't update his Facebook by ...</td>\n",
       "    </tr>\n",
       "    <tr>\n",
       "      <th>2</th>\n",
       "      <td>0</td>\n",
       "      <td>1467810917</td>\n",
       "      <td>Mon Apr 06 22:19:53 PDT 2009</td>\n",
       "      <td>NO_QUERY</td>\n",
       "      <td>mattycus</td>\n",
       "      <td>@Kenichan I dived many times for the ball. Man...</td>\n",
       "    </tr>\n",
       "    <tr>\n",
       "      <th>3</th>\n",
       "      <td>0</td>\n",
       "      <td>1467811184</td>\n",
       "      <td>Mon Apr 06 22:19:57 PDT 2009</td>\n",
       "      <td>NO_QUERY</td>\n",
       "      <td>ElleCTF</td>\n",
       "      <td>my whole body feels itchy and like its on fire</td>\n",
       "    </tr>\n",
       "    <tr>\n",
       "      <th>4</th>\n",
       "      <td>0</td>\n",
       "      <td>1467811193</td>\n",
       "      <td>Mon Apr 06 22:19:57 PDT 2009</td>\n",
       "      <td>NO_QUERY</td>\n",
       "      <td>Karoli</td>\n",
       "      <td>@nationwideclass no, it's not behaving at all....</td>\n",
       "    </tr>\n",
       "    <tr>\n",
       "      <th>...</th>\n",
       "      <td>...</td>\n",
       "      <td>...</td>\n",
       "      <td>...</td>\n",
       "      <td>...</td>\n",
       "      <td>...</td>\n",
       "      <td>...</td>\n",
       "    </tr>\n",
       "    <tr>\n",
       "      <th>1599995</th>\n",
       "      <td>4</td>\n",
       "      <td>2193601966</td>\n",
       "      <td>Tue Jun 16 08:40:49 PDT 2009</td>\n",
       "      <td>NO_QUERY</td>\n",
       "      <td>AmandaMarie1028</td>\n",
       "      <td>Just woke up. Having no school is the best fee...</td>\n",
       "    </tr>\n",
       "    <tr>\n",
       "      <th>1599996</th>\n",
       "      <td>4</td>\n",
       "      <td>2193601969</td>\n",
       "      <td>Tue Jun 16 08:40:49 PDT 2009</td>\n",
       "      <td>NO_QUERY</td>\n",
       "      <td>TheWDBoards</td>\n",
       "      <td>TheWDB.com - Very cool to hear old Walt interv...</td>\n",
       "    </tr>\n",
       "    <tr>\n",
       "      <th>1599997</th>\n",
       "      <td>4</td>\n",
       "      <td>2193601991</td>\n",
       "      <td>Tue Jun 16 08:40:49 PDT 2009</td>\n",
       "      <td>NO_QUERY</td>\n",
       "      <td>bpbabe</td>\n",
       "      <td>Are you ready for your MoJo Makeover? Ask me f...</td>\n",
       "    </tr>\n",
       "    <tr>\n",
       "      <th>1599998</th>\n",
       "      <td>4</td>\n",
       "      <td>2193602064</td>\n",
       "      <td>Tue Jun 16 08:40:49 PDT 2009</td>\n",
       "      <td>NO_QUERY</td>\n",
       "      <td>tinydiamondz</td>\n",
       "      <td>Happy 38th Birthday to my boo of alll time!!! ...</td>\n",
       "    </tr>\n",
       "    <tr>\n",
       "      <th>1599999</th>\n",
       "      <td>4</td>\n",
       "      <td>2193602129</td>\n",
       "      <td>Tue Jun 16 08:40:50 PDT 2009</td>\n",
       "      <td>NO_QUERY</td>\n",
       "      <td>RyanTrevMorris</td>\n",
       "      <td>happy #charitytuesday @theNSPCC @SparksCharity...</td>\n",
       "    </tr>\n",
       "  </tbody>\n",
       "</table>\n",
       "<p>1600000 rows × 6 columns</p>\n",
       "</div>"
      ],
      "text/plain": [
       "         sentiment         ids                          date      flag  \\\n",
       "0                0  1467810369  Mon Apr 06 22:19:45 PDT 2009  NO_QUERY   \n",
       "1                0  1467810672  Mon Apr 06 22:19:49 PDT 2009  NO_QUERY   \n",
       "2                0  1467810917  Mon Apr 06 22:19:53 PDT 2009  NO_QUERY   \n",
       "3                0  1467811184  Mon Apr 06 22:19:57 PDT 2009  NO_QUERY   \n",
       "4                0  1467811193  Mon Apr 06 22:19:57 PDT 2009  NO_QUERY   \n",
       "...            ...         ...                           ...       ...   \n",
       "1599995          4  2193601966  Tue Jun 16 08:40:49 PDT 2009  NO_QUERY   \n",
       "1599996          4  2193601969  Tue Jun 16 08:40:49 PDT 2009  NO_QUERY   \n",
       "1599997          4  2193601991  Tue Jun 16 08:40:49 PDT 2009  NO_QUERY   \n",
       "1599998          4  2193602064  Tue Jun 16 08:40:49 PDT 2009  NO_QUERY   \n",
       "1599999          4  2193602129  Tue Jun 16 08:40:50 PDT 2009  NO_QUERY   \n",
       "\n",
       "                    user                                               text  \n",
       "0        _TheSpecialOne_  @switchfoot http://twitpic.com/2y1zl - Awww, t...  \n",
       "1          scotthamilton  is upset that he can't update his Facebook by ...  \n",
       "2               mattycus  @Kenichan I dived many times for the ball. Man...  \n",
       "3                ElleCTF    my whole body feels itchy and like its on fire   \n",
       "4                 Karoli  @nationwideclass no, it's not behaving at all....  \n",
       "...                  ...                                                ...  \n",
       "1599995  AmandaMarie1028  Just woke up. Having no school is the best fee...  \n",
       "1599996      TheWDBoards  TheWDB.com - Very cool to hear old Walt interv...  \n",
       "1599997           bpbabe  Are you ready for your MoJo Makeover? Ask me f...  \n",
       "1599998     tinydiamondz  Happy 38th Birthday to my boo of alll time!!! ...  \n",
       "1599999   RyanTrevMorris  happy #charitytuesday @theNSPCC @SparksCharity...  \n",
       "\n",
       "[1600000 rows x 6 columns]"
      ]
     },
     "execution_count": 5,
     "metadata": {},
     "output_type": "execute_result"
    }
   ],
   "source": [
    "data"
   ]
  },
  {
   "cell_type": "code",
   "execution_count": 6,
   "id": "df37a631",
   "metadata": {},
   "outputs": [],
   "source": [
    "data = data.drop(['ids', 'date', 'flag', 'user'], axis=1)"
   ]
  },
  {
   "cell_type": "code",
   "execution_count": 7,
   "id": "4f62e755",
   "metadata": {},
   "outputs": [
    {
     "name": "stdout",
     "output_type": "stream",
     "text": [
      "<class 'pandas.core.frame.DataFrame'>\n",
      "RangeIndex: 1600000 entries, 0 to 1599999\n",
      "Data columns (total 2 columns):\n",
      " #   Column     Non-Null Count    Dtype \n",
      "---  ------     --------------    ----- \n",
      " 0   sentiment  1600000 non-null  int64 \n",
      " 1   text       1600000 non-null  object\n",
      "dtypes: int64(1), object(1)\n",
      "memory usage: 24.4+ MB\n"
     ]
    }
   ],
   "source": [
    "data.info()"
   ]
  },
  {
   "cell_type": "code",
   "execution_count": 8,
   "id": "74e84b23",
   "metadata": {},
   "outputs": [
    {
     "data": {
      "text/html": [
       "<div>\n",
       "<style scoped>\n",
       "    .dataframe tbody tr th:only-of-type {\n",
       "        vertical-align: middle;\n",
       "    }\n",
       "\n",
       "    .dataframe tbody tr th {\n",
       "        vertical-align: top;\n",
       "    }\n",
       "\n",
       "    .dataframe thead th {\n",
       "        text-align: right;\n",
       "    }\n",
       "</style>\n",
       "<table border=\"1\" class=\"dataframe\">\n",
       "  <thead>\n",
       "    <tr style=\"text-align: right;\">\n",
       "      <th></th>\n",
       "      <th>sentiment</th>\n",
       "      <th>text</th>\n",
       "    </tr>\n",
       "  </thead>\n",
       "  <tbody>\n",
       "    <tr>\n",
       "      <th>0</th>\n",
       "      <td>0</td>\n",
       "      <td>@switchfoot http://twitpic.com/2y1zl - Awww, t...</td>\n",
       "    </tr>\n",
       "    <tr>\n",
       "      <th>1</th>\n",
       "      <td>0</td>\n",
       "      <td>is upset that he can't update his Facebook by ...</td>\n",
       "    </tr>\n",
       "    <tr>\n",
       "      <th>2</th>\n",
       "      <td>0</td>\n",
       "      <td>@Kenichan I dived many times for the ball. Man...</td>\n",
       "    </tr>\n",
       "    <tr>\n",
       "      <th>3</th>\n",
       "      <td>0</td>\n",
       "      <td>my whole body feels itchy and like its on fire</td>\n",
       "    </tr>\n",
       "    <tr>\n",
       "      <th>4</th>\n",
       "      <td>0</td>\n",
       "      <td>@nationwideclass no, it's not behaving at all....</td>\n",
       "    </tr>\n",
       "  </tbody>\n",
       "</table>\n",
       "</div>"
      ],
      "text/plain": [
       "   sentiment                                               text\n",
       "0          0  @switchfoot http://twitpic.com/2y1zl - Awww, t...\n",
       "1          0  is upset that he can't update his Facebook by ...\n",
       "2          0  @Kenichan I dived many times for the ball. Man...\n",
       "3          0    my whole body feels itchy and like its on fire \n",
       "4          0  @nationwideclass no, it's not behaving at all...."
      ]
     },
     "execution_count": 8,
     "metadata": {},
     "output_type": "execute_result"
    }
   ],
   "source": [
    "data.head()"
   ]
  },
  {
   "cell_type": "code",
   "execution_count": 9,
   "id": "0f2cacd2",
   "metadata": {},
   "outputs": [
    {
     "data": {
      "image/png": "[encoded data removed]",
      "text/plain": [
       "<Figure size 640x480 with 1 Axes>"
      ]
     },
     "metadata": {},
     "output_type": "display_data"
    }
   ],
   "source": [
    "sns.countplot(data['sentiment'])\n",
    "plt.title('Distribution of sentiment class')\n",
    "plt.show()"
   ]
  },
  {
   "cell_type": "code",
   "execution_count": 10,
   "id": "26a088e2",
   "metadata": {},
   "outputs": [],
   "source": [
    "data['label'] = np.where(data.sentiment ==0, 'negative', 'positive')\n",
    "data['sentiment'] = data['sentiment'].replace(4,1)"
   ]
  },
  {
   "cell_type": "code",
   "execution_count": 11,
   "id": "c7b37cdd",
   "metadata": {},
   "outputs": [
    {
     "data": {
      "text/html": [
       "<div>\n",
       "<style scoped>\n",
       "    .dataframe tbody tr th:only-of-type {\n",
       "        vertical-align: middle;\n",
       "    }\n",
       "\n",
       "    .dataframe tbody tr th {\n",
       "        vertical-align: top;\n",
       "    }\n",
       "\n",
       "    .dataframe thead th {\n",
       "        text-align: right;\n",
       "    }\n",
       "</style>\n",
       "<table border=\"1\" class=\"dataframe\">\n",
       "  <thead>\n",
       "    <tr style=\"text-align: right;\">\n",
       "      <th></th>\n",
       "      <th>sentiment</th>\n",
       "      <th>text</th>\n",
       "      <th>label</th>\n",
       "    </tr>\n",
       "  </thead>\n",
       "  <tbody>\n",
       "    <tr>\n",
       "      <th>0</th>\n",
       "      <td>0</td>\n",
       "      <td>@switchfoot http://twitpic.com/2y1zl - Awww, t...</td>\n",
       "      <td>negative</td>\n",
       "    </tr>\n",
       "    <tr>\n",
       "      <th>1</th>\n",
       "      <td>0</td>\n",
       "      <td>is upset that he can't update his Facebook by ...</td>\n",
       "      <td>negative</td>\n",
       "    </tr>\n",
       "    <tr>\n",
       "      <th>2</th>\n",
       "      <td>0</td>\n",
       "      <td>@Kenichan I dived many times for the ball. Man...</td>\n",
       "      <td>negative</td>\n",
       "    </tr>\n",
       "    <tr>\n",
       "      <th>3</th>\n",
       "      <td>0</td>\n",
       "      <td>my whole body feels itchy and like its on fire</td>\n",
       "      <td>negative</td>\n",
       "    </tr>\n",
       "    <tr>\n",
       "      <th>4</th>\n",
       "      <td>0</td>\n",
       "      <td>@nationwideclass no, it's not behaving at all....</td>\n",
       "      <td>negative</td>\n",
       "    </tr>\n",
       "  </tbody>\n",
       "</table>\n",
       "</div>"
      ],
      "text/plain": [
       "   sentiment                                               text     label\n",
       "0          0  @switchfoot http://twitpic.com/2y1zl - Awww, t...  negative\n",
       "1          0  is upset that he can't update his Facebook by ...  negative\n",
       "2          0  @Kenichan I dived many times for the ball. Man...  negative\n",
       "3          0    my whole body feels itchy and like its on fire   negative\n",
       "4          0  @nationwideclass no, it's not behaving at all....  negative"
      ]
     },
     "execution_count": 11,
     "metadata": {},
     "output_type": "execute_result"
    }
   ],
   "source": [
    "data.head()"
   ]
  },
  {
   "cell_type": "markdown",
   "id": "ba19855a",
   "metadata": {},
   "source": [
    "# Test with 10000 samples per class"
   ]
  },
  {
   "cell_type": "code",
   "execution_count": 15,
   "id": "6e2eeaf7",
   "metadata": {},
   "outputs": [],
   "source": [
    "def sample_dataset(data, n_sample):\n",
    "    \n",
    "    new_data = data.groupby('sentiment', as_index=True).apply(lambda x: x.sample(n_sample)).reset_index(level=0, drop=True).sample(frac=1)\n",
    "    \n",
    "    return new_data"
   ]
  },
  {
   "cell_type": "code",
   "execution_count": 16,
   "id": "b4ae7fa2",
   "metadata": {},
   "outputs": [],
   "source": [
    "data_test = sample_dataset(data, 5000)"
   ]
  },
  {
   "cell_type": "code",
   "execution_count": 17,
   "id": "557d808c",
   "metadata": {},
   "outputs": [
    {
     "data": {
      "text/plain": [
       "1    5000\n",
       "0    5000\n",
       "Name: sentiment, dtype: int64"
      ]
     },
     "execution_count": 17,
     "metadata": {},
     "output_type": "execute_result"
    }
   ],
   "source": [
    "data_test.sentiment.value_counts()"
   ]
  },
  {
   "cell_type": "markdown",
   "id": "af8811ba",
   "metadata": {},
   "source": [
    "# Number of unique words in dataframe before text processing"
   ]
  },
  {
   "cell_type": "code",
   "execution_count": 18,
   "id": "5400111d",
   "metadata": {},
   "outputs": [],
   "source": [
    "def merge_list(serie):\n",
    "    \"\"\" This function will concatenate each tokenized cells in one list and will remove ',' afterwards \"\"\"\n",
    "    \n",
    "    i=0\n",
    "    corpus = []\n",
    "    while i<len(serie):\n",
    "        corpus.append(serie.iloc[i])\n",
    "        i+=1\n",
    "    corpus = [j for i in corpus for j in i] # Operation [['a'], ['b']] = ['a','b']\n",
    "    return corpus"
   ]
  },
  {
   "cell_type": "code",
   "execution_count": 19,
   "id": "ecbaace9",
   "metadata": {},
   "outputs": [],
   "source": [
    "tokenizer = RegexpTokenizer(r'\\w+')\n",
    "corpus = data_test.text.apply(lambda x: tokenizer.tokenize(x))"
   ]
  },
  {
   "cell_type": "code",
   "execution_count": 20,
   "id": "5d184798",
   "metadata": {},
   "outputs": [],
   "source": [
    "corpus = merge_list(corpus)"
   ]
  },
  {
   "cell_type": "code",
   "execution_count": 21,
   "id": "270fa29f",
   "metadata": {},
   "outputs": [
    {
     "data": {
      "text/plain": [
       "21905"
      ]
     },
     "execution_count": 21,
     "metadata": {},
     "output_type": "execute_result"
    }
   ],
   "source": [
    "vocab_size = len(set(corpus))\n",
    "vocab_size"
   ]
  },
  {
   "cell_type": "markdown",
   "id": "46b5f7a6",
   "metadata": {},
   "source": [
    "# Text_processing"
   ]
  },
  {
   "cell_type": "markdown",
   "id": "cfd6a7a7",
   "metadata": {},
   "source": [
    "Loading the spacy \"en_core_web_sm\" which is a small English pipeline trained on written web text that includes vocabulary, syntax and entities"
   ]
  },
  {
   "cell_type": "code",
   "execution_count": 22,
   "id": "6176050b",
   "metadata": {},
   "outputs": [],
   "source": [
    "nlp_spacy = spacy.load('en_core_web_sm', disable=['parser', 'ner'])"
   ]
  },
  {
   "cell_type": "code",
   "execution_count": 23,
   "id": "04b05708",
   "metadata": {},
   "outputs": [],
   "source": [
    "def text_processing(serie):\n",
    "    \n",
    "    serie = serie.apply(lambda x: x.lower()) #lower all the letters of the tweet\n",
    "    \n",
    "    serie = serie.apply(remove_stopwords) #remove stopwords \n",
    "    \n",
    "    serie = serie.apply(strip_non_alphanum) #remove non alpha numeric character\n",
    "    \n",
    "    serie = serie.apply(lambda x: strip_short(x, minsize=3)) #remove words below 2 characters\n",
    "    \n",
    "    serie = serie.apply(lambda x: \" \".join([token.lemma_ for token in nlp_spacy(x)])) #lemmatization with spacy vocabulary\n",
    "    \n",
    "    return pd.DataFrame(serie)"
   ]
  },
  {
   "cell_type": "code",
   "execution_count": 24,
   "id": "643cd817",
   "metadata": {},
   "outputs": [],
   "source": [
    "data_test.text = text_processing(data_test.text)"
   ]
  },
  {
   "cell_type": "code",
   "execution_count": 25,
   "id": "54befba5",
   "metadata": {
    "scrolled": false
   },
   "outputs": [
    {
     "data": {
      "text/html": [
       "<div>\n",
       "<style scoped>\n",
       "    .dataframe tbody tr th:only-of-type {\n",
       "        vertical-align: middle;\n",
       "    }\n",
       "\n",
       "    .dataframe tbody tr th {\n",
       "        vertical-align: top;\n",
       "    }\n",
       "\n",
       "    .dataframe thead th {\n",
       "        text-align: right;\n",
       "    }\n",
       "</style>\n",
       "<table border=\"1\" class=\"dataframe\">\n",
       "  <thead>\n",
       "    <tr style=\"text-align: right;\">\n",
       "      <th></th>\n",
       "      <th>sentiment</th>\n",
       "      <th>text</th>\n",
       "      <th>label</th>\n",
       "    </tr>\n",
       "  </thead>\n",
       "  <tbody>\n",
       "    <tr>\n",
       "      <th>1560538</th>\n",
       "      <td>1</td>\n",
       "      <td>castingstone true maybe epic win</td>\n",
       "      <td>positive</td>\n",
       "    </tr>\n",
       "    <tr>\n",
       "      <th>465405</th>\n",
       "      <td>0</td>\n",
       "      <td>mad nightmare skin crawl uuurgh</td>\n",
       "      <td>negative</td>\n",
       "    </tr>\n",
       "    <tr>\n",
       "      <th>1083903</th>\n",
       "      <td>1</td>\n",
       "      <td>want french fry fucking ketchup goodnight</td>\n",
       "      <td>positive</td>\n",
       "    </tr>\n",
       "    <tr>\n",
       "      <th>1133134</th>\n",
       "      <td>1</td>\n",
       "      <td>pdurham will double drunk clumsy ditzzy karaok...</td>\n",
       "      <td>positive</td>\n",
       "    </tr>\n",
       "    <tr>\n",
       "      <th>215912</th>\n",
       "      <td>0</td>\n",
       "      <td>start study dot feel like</td>\n",
       "      <td>negative</td>\n",
       "    </tr>\n",
       "  </tbody>\n",
       "</table>\n",
       "</div>"
      ],
      "text/plain": [
       "         sentiment                                               text  \\\n",
       "1560538          1                   castingstone true maybe epic win   \n",
       "465405           0                    mad nightmare skin crawl uuurgh   \n",
       "1083903          1          want french fry fucking ketchup goodnight   \n",
       "1133134          1  pdurham will double drunk clumsy ditzzy karaok...   \n",
       "215912           0                          start study dot feel like   \n",
       "\n",
       "            label  \n",
       "1560538  positive  \n",
       "465405   negative  \n",
       "1083903  positive  \n",
       "1133134  positive  \n",
       "215912   negative  "
      ]
     },
     "execution_count": 25,
     "metadata": {},
     "output_type": "execute_result"
    }
   ],
   "source": [
    "data_test.head()"
   ]
  },
  {
   "cell_type": "markdown",
   "id": "c4691327",
   "metadata": {},
   "source": [
    "## Number of unique words in dataframe after text processing"
   ]
  },
  {
   "cell_type": "code",
   "execution_count": 26,
   "id": "8b789b78",
   "metadata": {},
   "outputs": [],
   "source": [
    "tokenizer = RegexpTokenizer(r'\\w+') #matches any word character\n",
    "corpus = data_test.text.apply(lambda x: tokenizer.tokenize(x))"
   ]
  },
  {
   "cell_type": "code",
   "execution_count": 27,
   "id": "7c2cbba7",
   "metadata": {},
   "outputs": [],
   "source": [
    "corpus = merge_list(corpus)"
   ]
  },
  {
   "cell_type": "code",
   "execution_count": 28,
   "id": "44b3a498",
   "metadata": {
    "scrolled": true
   },
   "outputs": [
    {
     "name": "stdout",
     "output_type": "stream",
     "text": [
      "Length unique words before text processing 21905\n",
      "Length unique words after text processing 16425\n"
     ]
    }
   ],
   "source": [
    "vocab_size_after = len(set(corpus))\n",
    "vocab_size_after\n",
    "print('Length unique words before text processing', vocab_size)\n",
    "print('Length unique words after text processing', vocab_size_after)"
   ]
  },
  {
   "cell_type": "markdown",
   "id": "833ecafa",
   "metadata": {},
   "source": [
    "# Train_test_split"
   ]
  },
  {
   "cell_type": "markdown",
   "id": "7bd46da8",
   "metadata": {},
   "source": [
    "Divide all the tweets selected into a train set et a test set with 80-20 ratio"
   ]
  },
  {
   "cell_type": "code",
   "execution_count": 29,
   "id": "69a889ad",
   "metadata": {},
   "outputs": [],
   "source": [
    "X_train, X_test, y_train, y_test = train_test_split(data_test['text'], data_test['sentiment'], test_size=0.2, random_state=0)"
   ]
  },
  {
   "cell_type": "markdown",
   "id": "16fb33a6",
   "metadata": {},
   "source": [
    "# Tf-IDF"
   ]
  },
  {
   "cell_type": "markdown",
   "id": "488270bb",
   "metadata": {},
   "source": [
    "TF-IDF (term frequency-inverse document frequency) is a statistical measure that evaluates how relevant a word is to a document in a collection of documents. If a word appears often in a particular document, but not in so many other documents, it is most likely that the word represents a particular meaning for that document and receives a larger count than before thanks to high Idf. On the other side, if a word appears in many documents, then its Idf is close to 1 and the logarithm turns 1 into 0 and decreases its effect"
   ]
  },
  {
   "cell_type": "code",
   "execution_count": 30,
   "id": "76a9488f",
   "metadata": {},
   "outputs": [],
   "source": [
    "vectorizer = TfidfVectorizer().fit(X_train)\n",
    "X_train_vectorized = vectorizer.transform(X_train)"
   ]
  },
  {
   "cell_type": "code",
   "execution_count": 31,
   "id": "63d078f6",
   "metadata": {},
   "outputs": [],
   "source": [
    "X_test_vectorized = vectorizer.transform(X_test)"
   ]
  },
  {
   "cell_type": "markdown",
   "id": "081c3ea4",
   "metadata": {},
   "source": [
    "## Model"
   ]
  },
  {
   "cell_type": "code",
   "execution_count": 32,
   "id": "6d097b63",
   "metadata": {},
   "outputs": [],
   "source": [
    "def model_evaluate(model):\n",
    "    \n",
    "    y_pred = model.predict(X_test_vectorized)\n",
    "    \n",
    "    print(classification_report(y_test, y_pred))\n",
    "    \n",
    "    cf_matrix = confusion_matrix(y_test, y_pred)\n",
    "    categories = ['Negative', 'Positive']\n",
    "    group_names = ['True_neg', 'False Pos', 'False Neg', 'True Pos']\n",
    "    group_percentages = ['{0:.2%}'.format(value) for value in cf_matrix.flatten() / np.sum(cf_matrix)]\n",
    "    labels = [f'{v1}\\n{v2}' for v1, v2 in zip(group_names,group_percentages)]\n",
    "    labels = np.asarray(labels).reshape(2,2)\n",
    "    \n",
    "    sns.heatmap(cf_matrix, annot = labels, cmap = 'Blues',fmt = '',\n",
    "                xticklabels = categories, yticklabels = categories)\n",
    "    \n",
    "    plt.xlabel(\"Predicted values\", fontdict = {'size':14}, labelpad = 10)\n",
    "    plt.ylabel(\"Actual values\"   , fontdict = {'size':14}, labelpad = 10)\n",
    "    plt.title (\"Confusion Matrix\", fontdict = {'size':18}, pad = 20)"
   ]
  },
  {
   "cell_type": "code",
   "execution_count": 33,
   "id": "f00c80ae",
   "metadata": {},
   "outputs": [],
   "source": [
    "# parameters_log_reg = {\"C\":np.logspace(-3,3,7),\n",
    "#                       \"max_iter\": [60+20*i for i in range(10)],\n",
    "#                      \"solver\": [\"newton-cg\"]}\n",
    "\n",
    "# log_reg = LogisticRegression()\n",
    "# log_reg_cv = GridSearchCV(log_reg, parameters_log_reg, cv=5)\n",
    "# log_reg_cv.fit(X_train_vectorized, y_train)"
   ]
  },
  {
   "cell_type": "code",
   "execution_count": 34,
   "id": "27cf5b72",
   "metadata": {},
   "outputs": [],
   "source": [
    "# print(\"Tuned hyperparameters :(best parameters) \",log_reg_cv.best_params_)\n",
    "# print(\"Accuracy :\",log_reg_cv.best_score_)"
   ]
  },
  {
   "cell_type": "code",
   "execution_count": 35,
   "id": "11403907",
   "metadata": {},
   "outputs": [],
   "source": [
    "# best_params_lr = log_reg_cv.best_params_\n",
    "# joblib.dump(best_params_lr, 'GSCV_modele_simple.pkl')"
   ]
  },
  {
   "cell_type": "code",
   "execution_count": 36,
   "id": "71cb8f38",
   "metadata": {},
   "outputs": [],
   "source": [
    "params = joblib.load('GSCV_modele_simple.pkl')"
   ]
  },
  {
   "cell_type": "code",
   "execution_count": 37,
   "id": "53952aea",
   "metadata": {},
   "outputs": [
    {
     "name": "stdout",
     "output_type": "stream",
     "text": [
      "              precision    recall  f1-score   support\n",
      "\n",
      "           0       0.73      0.71      0.72      1020\n",
      "           1       0.71      0.73      0.72       980\n",
      "\n",
      "    accuracy                           0.72      2000\n",
      "   macro avg       0.72      0.72      0.72      2000\n",
      "weighted avg       0.72      0.72      0.72      2000\n",
      "\n"
     ]
    },
    {
     "data": {
      "image/png": "[encoded data removed]",
      "text/plain": [
       "<Figure size 640x480 with 2 Axes>"
      ]
     },
     "metadata": {},
     "output_type": "display_data"
    }
   ],
   "source": [
    "clf = LogisticRegression(**params)\n",
    "clf.fit(X_train_vectorized, y_train)\n",
    "model_evaluate(clf)"
   ]
  },
  {
   "cell_type": "markdown",
   "id": "9b1bef69",
   "metadata": {},
   "source": [
    "# Advanced Model"
   ]
  },
  {
   "cell_type": "markdown",
   "id": "da43c5e3",
   "metadata": {},
   "source": [
    "# KERAS EMBEDDING\n"
   ]
  },
  {
   "cell_type": "markdown",
   "id": "0039a4c7",
   "metadata": {},
   "source": [
    "# Distribution of comments based on number of tokens"
   ]
  },
  {
   "cell_type": "code",
   "execution_count": 38,
   "id": "0fe83f23",
   "metadata": {},
   "outputs": [
    {
     "data": {
      "image/png": "[encoded data removed]",
      "text/plain": [
       "<Figure size 1600x600 with 1 Axes>"
      ]
     },
     "metadata": {},
     "output_type": "display_data"
    }
   ],
   "source": [
    "sizes=[len(i) for i in X_train]\n",
    "plt.figure(figsize=(16,6))\n",
    "plt.hist(sizes, bins=70)\n",
    "plt.gca().set(title='Distribution of comments by size - [{:5.2f}, {:5.2f}]'.format(min(sizes),max(sizes)),\n",
    "             xlabel='Size', ylabel='Density', xlim=[0,300])\n",
    "plt.show()"
   ]
  },
  {
   "cell_type": "markdown",
   "id": "e1b4f3cf",
   "metadata": {},
   "source": [
    "# Word2VEC"
   ]
  },
  {
   "cell_type": "markdown",
   "id": "f06fef2b",
   "metadata": {},
   "source": [
    "Load the pre-trained word2vec model"
   ]
  },
  {
   "cell_type": "code",
   "execution_count": 39,
   "id": "66f5fd08",
   "metadata": {},
   "outputs": [],
   "source": [
    "w2v_model = word2vec.KeyedVectors.load_word2vec_format(\"C:\\Mes Documents\\Downloads\\GoogleNews-vectors-negative300.bin.gz\", binary=True)\n",
    "dict_w2v = w2v_model.key_to_index"
   ]
  },
  {
   "cell_type": "markdown",
   "id": "7dfface4",
   "metadata": {},
   "source": [
    "# Glove"
   ]
  },
  {
   "cell_type": "markdown",
   "id": "05f27972",
   "metadata": {},
   "source": [
    "Load the pre-trained glove model"
   ]
  },
  {
   "cell_type": "code",
   "execution_count": 40,
   "id": "789e17fa",
   "metadata": {},
   "outputs": [],
   "source": [
    "def read_glove_vecs(glove_file):\n",
    "    with open(glove_file, encoding=\"utf8\") as f:\n",
    "        words = set()\n",
    "        word_to_vec_map = {}\n",
    "        for line in f:\n",
    "            line = line.strip().split()\n",
    "            curr_word = line[0]\n",
    "            words.add(curr_word)\n",
    "            word_to_vec_map[curr_word] = np.array(line[1:], dtype=np.float64)\n",
    "        \n",
    "        i = 1\n",
    "        words_to_index = {}\n",
    "        index_to_words = {}\n",
    "        for w in sorted(words):\n",
    "            words_to_index[w] = i\n",
    "            index_to_words[i] = w\n",
    "            i = i + 1\n",
    "    return word_to_vec_map, words_to_index"
   ]
  },
  {
   "cell_type": "code",
   "execution_count": 41,
   "id": "e03fa07a",
   "metadata": {},
   "outputs": [],
   "source": [
    "glove_model, dict_glove = read_glove_vecs(r\"D:\\Mes Documents\\Bureau\\glove.twitter.27B\\glove.twitter.27B.200d.txt\")"
   ]
  },
  {
   "cell_type": "markdown",
   "id": "b99b3d39",
   "metadata": {},
   "source": [
    "# Functions of preprocessing data and training LSTM Model"
   ]
  },
  {
   "cell_type": "code",
   "execution_count": 16,
   "id": "3ba68f68",
   "metadata": {},
   "outputs": [],
   "source": [
    "def sample_dataset(data, n_sample):\n",
    "    \n",
    "    new_data = data.groupby('sentiment', as_index=True).apply(lambda x: x.sample(n_sample)).reset_index(level=0, drop=True).sample(frac=1)\n",
    "    \n",
    "    return new_data"
   ]
  },
  {
   "cell_type": "code",
   "execution_count": 17,
   "id": "eee6caba",
   "metadata": {},
   "outputs": [
    {
     "name": "stdout",
     "output_type": "stream",
     "text": [
      "['i', 'me', 'my', 'myself', 'we', 'our', 'ours', 'ourselves', 'you', \"you're\", \"you've\", \"you'll\", \"you'd\", 'your', 'yours', 'yourself', 'yourselves', 'he', 'him', 'his', 'himself', 'she', \"she's\", 'her', 'hers', 'herself', 'it', \"it's\", 'its', 'itself', 'they', 'them', 'their', 'theirs', 'themselves', 'what', 'which', 'who', 'whom', 'this', 'that', \"that'll\", 'these', 'those', 'am', 'is', 'are', 'was', 'were', 'be', 'been', 'being', 'have', 'has', 'had', 'having', 'do', 'does', 'did', 'doing', 'a', 'an', 'the', 'and', 'but', 'if', 'or', 'because', 'as', 'until', 'while', 'of', 'at', 'by', 'for', 'with', 'about', 'against', 'between', 'into', 'through', 'during', 'before', 'after', 'above', 'below', 'to', 'from', 'up', 'down', 'in', 'out', 'on', 'off', 'over', 'under', 'again', 'further', 'then', 'once', 'here', 'there', 'when', 'where', 'why', 'how', 'all', 'any', 'both', 'each', 'few', 'more', 'most', 'other', 'some', 'such', 'no', 'nor', 'not', 'only', 'own', 'same', 'so', 'than', 'too', 'very', 's', 't', 'can', 'will', 'just', 'don', \"don't\", 'should', \"should've\", 'now', 'd', 'll', 'm', 'o', 're', 've', 'y', 'ain', 'aren', \"aren't\", 'couldn', \"couldn't\", 'didn', \"didn't\", 'doesn', \"doesn't\", 'hadn', \"hadn't\", 'hasn', \"hasn't\", 'haven', \"haven't\", 'isn', \"isn't\", 'ma', 'mightn', \"mightn't\", 'mustn', \"mustn't\", 'needn', \"needn't\", 'shan', \"shan't\", 'shouldn', \"shouldn't\", 'wasn', \"wasn't\", 'weren', \"weren't\", 'won', \"won't\", 'wouldn', \"wouldn't\"]\n"
     ]
    }
   ],
   "source": [
    "print(stopwords.words('english'))"
   ]
  },
  {
   "cell_type": "code",
   "execution_count": 18,
   "id": "149ce929",
   "metadata": {},
   "outputs": [],
   "source": [
    "negative_stopwords = ['no', 'don', \"don't\", 'nor', 'not', \"aren't\", 'couldn', \"couldn't\", 'didn', \"didn't\", 'doesn', \"doesn't\", 'hadn', \"hadn't\", 'hasn', \n",
    "                      \"hasn't\", 'haven', \"haven't\", 'isn', \"isn't\", 'ma', 'mightn', \"mightn't\", 'mustn', \"mustn't\", 'needn', \n",
    "                      \"needn't\", 'shan', \"shan't\", 'shouldn', \"shouldn't\", 'wasn', \"wasn't\", 'weren', \"weren't\", 'won', \"won't\",\n",
    "                      'wouldn', \"wouldn't\", \"can't\", 't'\n",
    "                     ]"
   ]
  },
  {
   "cell_type": "code",
   "execution_count": 19,
   "id": "cc649486",
   "metadata": {},
   "outputs": [],
   "source": [
    "stopwords = set(stopwords.words('english')) - set(negative_stopwords)"
   ]
  },
  {
   "cell_type": "code",
   "execution_count": 20,
   "id": "3f81980d",
   "metadata": {},
   "outputs": [],
   "source": [
    "tokenizer = RegexpTokenizer(r'\\w+')"
   ]
  },
  {
   "cell_type": "markdown",
   "id": "86d7ae23",
   "metadata": {},
   "source": [
    "### Text processing \n",
    "We define a function of text processing which will modify the tweets before running in the models"
   ]
  },
  {
   "cell_type": "code",
   "execution_count": 21,
   "id": "95b3f374",
   "metadata": {},
   "outputs": [],
   "source": [
    "def text_processing(serie):\n",
    "    \n",
    "    tokenizer = RegexpTokenizer(r'\\w+')\n",
    "    serie = serie.apply(lambda x: x.lower()) #lower all the characters\n",
    "    serie = serie.apply(lambda x: tokenizer.tokenize(x)) #tokenize the text\n",
    "    serie = serie.apply(lambda x: [word for word in x if word not in stopwords]) #remove only non negative stopwords\n",
    "    serie = serie.apply(lambda x: ' '.join([word for word in x]))\n",
    "    \n",
    "#     serie = serie.apply(remove_stopwords)\n",
    "    \n",
    "    serie = serie.apply(strip_non_alphanum) #remove non alpha numeric character\n",
    "    serie = serie.apply(lambda x: strip_short(x, minsize=3)) #remove words below 2 characters\n",
    "    \n",
    "#     serie = serie.apply(lambda x: \" \".join([token.lemma_ for token in nlp_spacy(x)])) \n",
    "    \n",
    "    return pd.DataFrame(serie)"
   ]
  },
  {
   "cell_type": "markdown",
   "id": "55bce754",
   "metadata": {},
   "source": [
    "### Transform sequence function\n",
    "This function will transform the tweets pre-processed into numbers that will define the tweet and can be compatible for the models"
   ]
  },
  {
   "cell_type": "code",
   "execution_count": 22,
   "id": "dc19094d",
   "metadata": {},
   "outputs": [],
   "source": [
    "def transform_sequence(X_train, X_test, num_words, max_len):\n",
    "    \n",
    "    tokenizer = Tokenizer(num_words)\n",
    "    tokenizer.fit_on_texts(X_train)\n",
    "    \n",
    "    X_train = tokenizer.texts_to_sequences(X_train)\n",
    "    X_test = tokenizer.texts_to_sequences(X_test)\n",
    "    \n",
    "    vocab_size = len(tokenizer.word_index) + 1 #1 is added because of padding for index 0 by keras\n",
    "    \n",
    "    X_train = pad_sequences(X_train, value=0, padding='post', maxlen=max_len)\n",
    "    X_test = pad_sequences(X_test, value=0, padding='post', maxlen=max_len)\n",
    "    \n",
    "    return X_train, X_test, vocab_size, tokenizer"
   ]
  },
  {
   "cell_type": "markdown",
   "id": "1cad8465",
   "metadata": {},
   "source": [
    "## Creation of Embedding matricies"
   ]
  },
  {
   "cell_type": "code",
   "execution_count": 23,
   "id": "d5cd59b0",
   "metadata": {},
   "outputs": [],
   "source": [
    "def create_embedding_from_pretrained(pretrained_model, dict_model, dim_vectors, vocab_size, num_words, tokenizer):\n",
    "    \n",
    "    weight_matrix = np.zeros((vocab_size, dim_vectors))\n",
    "\n",
    "    for word, index  in tokenizer.word_index.items():\n",
    "        if index < num_words: # \"<\" and not \"<=\" since index starts with zero \n",
    "            if word in dict_model:\n",
    "                weight_matrix[index] = pretrained_model[word]\n",
    "            else:\n",
    "                weight_matrix[index] = np.zeros(dim_vectors)\n",
    "                \n",
    "    return weight_matrix"
   ]
  },
  {
   "cell_type": "code",
   "execution_count": 24,
   "id": "d38ef91a",
   "metadata": {},
   "outputs": [],
   "source": [
    "def create_embedding_layer(dim_vectors, vocab_size, max_len, weight_matrix=None):\n",
    "    \n",
    "    if weight_matrix is not None:\n",
    "        embedding_layer = Embedding(input_dim=vocab_size,\n",
    "                                   output_dim=dim_vectors,\n",
    "                                   input_length=max_len,\n",
    "                                   weights=[weight_matrix], trainable=False)\n",
    "    else:\n",
    "        embedding_layer = Embedding(input_dim=vocab_size,\n",
    "                                   output_dim=dim_vectors,\n",
    "                                   input_length=max_len)\n",
    "    \n",
    "    return embedding_layer"
   ]
  },
  {
   "cell_type": "code",
   "execution_count": 25,
   "id": "b8011da7",
   "metadata": {},
   "outputs": [],
   "source": [
    "def get_model(max_len, embedding_layer):\n",
    "    \n",
    "    model = keras.Sequential()\n",
    "    model.add(keras.layers.Input(shape=(max_len)))\n",
    "    model.add(embedding_layer)\n",
    "    \n",
    "#     model.add(keras.layers.Dense(128, activation='relu'))\n",
    "    model.add(keras.layers.Bidirectional(LSTM(128, return_sequences=True)))\n",
    "    model.add(keras.layers.Bidirectional(LSTM(64, return_sequences=True)))\n",
    "    model.add(keras.layers.Bidirectional(LSTM(32, return_sequences=True)))\n",
    "    model.add(keras.layers.Bidirectional(LSTM(16)))\n",
    "#     model.add(Dropout(0.2))\n",
    "    model.add(keras.layers.Dense(8, activation='relu'))\n",
    "    model.add(keras.layers.Dense(1, activation='sigmoid'))\n",
    "    \n",
    "    model.compile(optimizer = Adam(learning_rate=0.001),\n",
    "                 loss = 'binary_crossentropy',\n",
    "                 metrics = ['accuracy'])\n",
    "    \n",
    "    print(model.summary())\n",
    "    \n",
    "    return model"
   ]
  },
  {
   "cell_type": "code",
   "execution_count": 26,
   "id": "2f10d4d3",
   "metadata": {},
   "outputs": [],
   "source": [
    "def fit_model(model, batch_size, epochs):\n",
    "\n",
    "    history = model.fit(X_train, y_train, epochs=epochs, verbose=1, batch_size=batch_size, validation_data=(X_test, y_test))\n",
    "    \n",
    "    return history"
   ]
  },
  {
   "cell_type": "code",
   "execution_count": 27,
   "id": "4012cea2",
   "metadata": {},
   "outputs": [],
   "source": [
    "def graph_performances(history):\n",
    "    \n",
    "    \n",
    "    metrics_df = pd.DataFrame(history.history)\n",
    "\n",
    "    plt.figure(figsize=(15, 15))\n",
    "\n",
    "    plt.subplot(2, 2, 1)\n",
    "    plt.plot(metrics_df.index, metrics_df.loss)\n",
    "    plt.plot(metrics_df.index, metrics_df.val_loss)\n",
    "    plt.title('Reviews Sentiment Analysis Model Loss over Epochs')\n",
    "    plt.yticks(np.arange(0, 1, step=0.2)) \n",
    "    plt.xlabel('Epochs')\n",
    "    plt.ylabel('Binary Crossentropy')\n",
    "    plt.legend(['Training Loss', 'Validation Loss'])\n",
    "\n",
    "    plt.subplot(2, 2, 2)\n",
    "    plt.plot(metrics_df.index, metrics_df.accuracy)\n",
    "    plt.plot(metrics_df.index, metrics_df.val_accuracy)\n",
    "    plt.title('Reviews Sentiment Analysis Model Accuracy over Epochs')\n",
    "    plt.yticks(np.arange(0, 1, step=0.2)) \n",
    "    plt.xlabel('Epochs')\n",
    "    plt.ylabel('Accuracy')\n",
    "    plt.legend(['Training Accuracy', 'Validation'])\n",
    "                \n",
    "    return plt.show()"
   ]
  },
  {
   "cell_type": "code",
   "execution_count": 28,
   "id": "fdea5864",
   "metadata": {},
   "outputs": [],
   "source": [
    "def classification(num_words, max_len, n_sample, dim_vectors=None, glove=None, w2v=None):\n",
    "    \n",
    "    new_data = sample_dataset(data, n_sample)\n",
    "    new_data.text = text_processing(new_data.text)\n",
    "    X_train, X_test, y_train, y_test = train_test_split(new_data['text'], new_data['sentiment'], stratify=new_data['sentiment'], test_size=0.2, random_state=0)\n",
    "    X_train, X_test, vocab_size, tokenizer = transform_sequence(X_train, X_test, num_words, max_len)\n",
    "    \n",
    "    if glove is not None:\n",
    "        dim_vectors = 200\n",
    "        weight_matrix = create_embedding_from_pretrained(glove_model, dict_glove, dim_vectors, vocab_size, num_words, tokenizer)\n",
    "        embedding_layer = create_embedding_layer(dim_vectors, vocab_size, max_len, weight_matrix=weight_matrix)\n",
    "    \n",
    "    elif w2v is not None:\n",
    "        dim_vectors = 300\n",
    "        weight_matrix = create_embedding_from_pretrained(w2v_model, dict_w2v, dim_vectors, vocab_size, num_words, tokenizer)\n",
    "        embedding_layer = create_embedding_layer(dim_vectors, vocab_size, max_len, weight_matrix=weight_matrix)\n",
    "    \n",
    "    else:\n",
    "        dim_vectors = dim_vectors\n",
    "        embedding_layer = create_embedding_layer(vocab_size, dim_vectors, max_len)\n",
    "        \n",
    "    model = get_model(max_len, embedding_layer)\n",
    "    \n",
    "    return model, X_train, X_test, y_train, y_test, tokenizer"
   ]
  },
  {
   "cell_type": "markdown",
   "id": "2fcf1f8f",
   "metadata": {},
   "source": [
    "# Model with kerras embedding (no pre-trained embeddings)"
   ]
  },
  {
   "cell_type": "code",
   "execution_count": 74,
   "id": "08cfb728",
   "metadata": {
    "scrolled": true
   },
   "outputs": [
    {
     "name": "stdout",
     "output_type": "stream",
     "text": [
      "Model: \"sequential_7\"\n",
      "_________________________________________________________________\n",
      " Layer (type)                Output Shape              Param #   \n",
      "=================================================================\n",
      " embedding_7 (Embedding)     (None, 40, 25481)         6523136   \n",
      "                                                                 \n",
      " bidirectional_28 (Bidirecti  (None, 40, 256)          26224640  \n",
      " onal)                                                           \n",
      "                                                                 \n",
      " bidirectional_29 (Bidirecti  (None, 40, 128)          164352    \n",
      " onal)                                                           \n",
      "                                                                 \n",
      " bidirectional_30 (Bidirecti  (None, 40, 64)           41216     \n",
      " onal)                                                           \n",
      "                                                                 \n",
      " bidirectional_31 (Bidirecti  (None, 32)               10368     \n",
      " onal)                                                           \n",
      "                                                                 \n",
      " dense_14 (Dense)            (None, 8)                 264       \n",
      "                                                                 \n",
      " dense_15 (Dense)            (None, 1)                 9         \n",
      "                                                                 \n",
      "=================================================================\n",
      "Total params: 32,963,985\n",
      "Trainable params: 32,963,985\n",
      "Non-trainable params: 0\n",
      "_________________________________________________________________\n",
      "None\n"
     ]
    }
   ],
   "source": [
    "model, X_train, X_test, y_train, y_test, tokenizer = classification(num_words=10000, max_len=40, n_sample=10000, dim_vectors=256)"
   ]
  },
  {
   "cell_type": "code",
   "execution_count": 75,
   "id": "9b6f0e4e",
   "metadata": {},
   "outputs": [
    {
     "name": "stdout",
     "output_type": "stream",
     "text": [
      "Epoch 1/5\n",
      "1000/1000 [==============================] - 216s 207ms/step - loss: 0.6306 - accuracy: 0.6409 - val_loss: 0.5977 - val_accuracy: 0.6633\n",
      "Epoch 2/5\n",
      "1000/1000 [==============================] - 105s 105ms/step - loss: 0.5812 - accuracy: 0.6848 - val_loss: 0.5843 - val_accuracy: 0.6883\n",
      "Epoch 3/5\n",
      "1000/1000 [==============================] - 108s 108ms/step - loss: 0.5591 - accuracy: 0.6974 - val_loss: 0.5728 - val_accuracy: 0.6810\n",
      "Epoch 4/5\n",
      "1000/1000 [==============================] - 105s 105ms/step - loss: 0.5462 - accuracy: 0.7077 - val_loss: 0.5807 - val_accuracy: 0.6948\n",
      "Epoch 5/5\n",
      "1000/1000 [==============================] - 107s 107ms/step - loss: 0.5386 - accuracy: 0.7082 - val_loss: 0.5767 - val_accuracy: 0.6975\n",
      "Time taken to execute code : 641.3189955000007\n"
     ]
    }
   ],
   "source": [
    "start = perf_counter()\n",
    "\n",
    "history = fit_model(model, batch_size=16, epochs=5)\n",
    "\n",
    "end = perf_counter()\n",
    "print(f\"Time taken to execute code : {end-start}\")"
   ]
  },
  {
   "cell_type": "code",
   "execution_count": 76,
   "id": "814de49c",
   "metadata": {},
   "outputs": [
    {
     "data": {
      "image/png": "[encoded data removed]",
      "text/plain": [
       "<Figure size 1500x1500 with 2 Axes>"
      ]
     },
     "metadata": {},
     "output_type": "display_data"
    }
   ],
   "source": [
    "graph_performances(history)"
   ]
  },
  {
   "cell_type": "markdown",
   "id": "cff13d9b",
   "metadata": {},
   "source": [
    "# Model with Glove embedding"
   ]
  },
  {
   "cell_type": "code",
   "execution_count": 72,
   "id": "926b5a95",
   "metadata": {},
   "outputs": [
    {
     "name": "stdout",
     "output_type": "stream",
     "text": [
      "Model: \"sequential_6\"\n",
      "_________________________________________________________________\n",
      " Layer (type)                Output Shape              Param #   \n",
      "=================================================================\n",
      " embedding_6 (Embedding)     (None, 40, 200)           16134400  \n",
      "                                                                 \n",
      " bidirectional_24 (Bidirecti  (None, 40, 256)          336896    \n",
      " onal)                                                           \n",
      "                                                                 \n",
      " bidirectional_25 (Bidirecti  (None, 40, 128)          164352    \n",
      " onal)                                                           \n",
      "                                                                 \n",
      " bidirectional_26 (Bidirecti  (None, 40, 64)           41216     \n",
      " onal)                                                           \n",
      "                                                                 \n",
      " bidirectional_27 (Bidirecti  (None, 32)               10368     \n",
      " onal)                                                           \n",
      "                                                                 \n",
      " dense_12 (Dense)            (None, 8)                 264       \n",
      "                                                                 \n",
      " dense_13 (Dense)            (None, 1)                 9         \n",
      "                                                                 \n",
      "=================================================================\n",
      "Total params: 16,687,505\n",
      "Trainable params: 553,105\n",
      "Non-trainable params: 16,134,400\n",
      "_________________________________________________________________\n",
      "None\n"
     ]
    }
   ],
   "source": [
    "model, X_train, X_test, y_train, y_test, tokenizer_glove = classification(num_words=10000, max_len=40, n_sample=50000, glove=True)"
   ]
  },
  {
   "cell_type": "code",
   "execution_count": 73,
   "id": "0bef9ab7",
   "metadata": {},
   "outputs": [
    {
     "name": "stdout",
     "output_type": "stream",
     "text": [
      "Epoch 1/5\n",
      "313/313 [==============================] - 29s 61ms/step - loss: 0.5179 - accuracy: 0.7433 - val_loss: 0.4995 - val_accuracy: 0.7551\n",
      "Epoch 2/5\n",
      "313/313 [==============================] - 16s 51ms/step - loss: 0.4783 - accuracy: 0.7672 - val_loss: 0.4902 - val_accuracy: 0.7653\n",
      "Epoch 3/5\n",
      "313/313 [==============================] - 23s 74ms/step - loss: 0.4639 - accuracy: 0.7794 - val_loss: 0.4833 - val_accuracy: 0.7714\n",
      "Epoch 4/5\n",
      "313/313 [==============================] - 18s 59ms/step - loss: 0.4479 - accuracy: 0.7878 - val_loss: 0.4848 - val_accuracy: 0.7656\n",
      "Epoch 5/5\n",
      "313/313 [==============================] - 18s 58ms/step - loss: 0.4317 - accuracy: 0.7979 - val_loss: 0.4702 - val_accuracy: 0.7741\n",
      "Time taken to execute code : 104.80283969999982\n"
     ]
    }
   ],
   "source": [
    "start = perf_counter()\n",
    "\n",
    "history = fit_model(model, batch_size=256, epochs=5)\n",
    "\n",
    "end = perf_counter()\n",
    "print(f\"Time taken to execute code : {end-start}\")"
   ]
  },
  {
   "cell_type": "code",
   "execution_count": 67,
   "id": "f5bf67c0",
   "metadata": {},
   "outputs": [
    {
     "data": {
      "image/png": "[encoded data removed]",
      "text/plain": [
       "<Figure size 1500x1500 with 2 Axes>"
      ]
     },
     "metadata": {},
     "output_type": "display_data"
    }
   ],
   "source": [
    "graph_performances(history)"
   ]
  },
  {
   "cell_type": "markdown",
   "id": "8f6e3495",
   "metadata": {},
   "source": [
    "# Model with Word2Vec embedding"
   ]
  },
  {
   "cell_type": "code",
   "execution_count": 77,
   "id": "0b57752f",
   "metadata": {},
   "outputs": [
    {
     "name": "stdout",
     "output_type": "stream",
     "text": [
      "Model: \"sequential_8\"\n",
      "_________________________________________________________________\n",
      " Layer (type)                Output Shape              Param #   \n",
      "=================================================================\n",
      " embedding_8 (Embedding)     (None, 40, 300)           24141300  \n",
      "                                                                 \n",
      " bidirectional_32 (Bidirecti  (None, 40, 256)          439296    \n",
      " onal)                                                           \n",
      "                                                                 \n",
      " bidirectional_33 (Bidirecti  (None, 40, 128)          164352    \n",
      " onal)                                                           \n",
      "                                                                 \n",
      " bidirectional_34 (Bidirecti  (None, 40, 64)           41216     \n",
      " onal)                                                           \n",
      "                                                                 \n",
      " bidirectional_35 (Bidirecti  (None, 32)               10368     \n",
      " onal)                                                           \n",
      "                                                                 \n",
      " dense_16 (Dense)            (None, 8)                 264       \n",
      "                                                                 \n",
      " dense_17 (Dense)            (None, 1)                 9         \n",
      "                                                                 \n",
      "=================================================================\n",
      "Total params: 24,796,805\n",
      "Trainable params: 655,505\n",
      "Non-trainable params: 24,141,300\n",
      "_________________________________________________________________\n",
      "None\n"
     ]
    }
   ],
   "source": [
    "model, X_train, X_test, y_train, y_test, tokenizer_w2v = classification(num_words=10000, max_len=40, n_sample=50000, w2v=True)"
   ]
  },
  {
   "cell_type": "code",
   "execution_count": 78,
   "id": "005e32aa",
   "metadata": {},
   "outputs": [
    {
     "name": "stdout",
     "output_type": "stream",
     "text": [
      "Epoch 1/5\n",
      "313/313 [==============================] - 35s 77ms/step - loss: 0.5387 - accuracy: 0.7293 - val_loss: 0.5142 - val_accuracy: 0.7483\n",
      "Epoch 2/5\n",
      "313/313 [==============================] - 22s 71ms/step - loss: 0.5031 - accuracy: 0.7552 - val_loss: 0.5038 - val_accuracy: 0.7578\n",
      "Epoch 3/5\n",
      "313/313 [==============================] - 20s 65ms/step - loss: 0.4846 - accuracy: 0.7687 - val_loss: 0.4917 - val_accuracy: 0.7612\n",
      "Epoch 4/5\n",
      "313/313 [==============================] - 21s 66ms/step - loss: 0.4695 - accuracy: 0.7768 - val_loss: 0.4807 - val_accuracy: 0.7715\n",
      "Epoch 5/5\n",
      "313/313 [==============================] - 21s 68ms/step - loss: 0.4559 - accuracy: 0.7836 - val_loss: 0.4737 - val_accuracy: 0.7756\n",
      "Time taken to execute code : 119.65308600000026\n"
     ]
    }
   ],
   "source": [
    "start = perf_counter()\n",
    "\n",
    "history = fit_model(model, batch_size=256, epochs=5)\n",
    "\n",
    "end = perf_counter()\n",
    "print(f\"Time taken to execute code : {end-start}\")"
   ]
  },
  {
   "cell_type": "code",
   "execution_count": 79,
   "id": "7aec518d",
   "metadata": {},
   "outputs": [
    {
     "data": {
      "image/png": "[encoded data removed]",
      "text/plain": [
       "<Figure size 1500x1500 with 2 Axes>"
      ]
     },
     "metadata": {},
     "output_type": "display_data"
    }
   ],
   "source": [
    "graph_performances(history)"
   ]
  },
  {
   "cell_type": "markdown",
   "id": "bf9df2cc",
   "metadata": {},
   "source": [
    "# BERT"
   ]
  },
  {
   "cell_type": "code",
   "execution_count": 54,
   "id": "17639d4f",
   "metadata": {},
   "outputs": [
    {
     "data": {
      "text/html": [
       "<div>\n",
       "<style scoped>\n",
       "    .dataframe tbody tr th:only-of-type {\n",
       "        vertical-align: middle;\n",
       "    }\n",
       "\n",
       "    .dataframe tbody tr th {\n",
       "        vertical-align: top;\n",
       "    }\n",
       "\n",
       "    .dataframe thead th {\n",
       "        text-align: right;\n",
       "    }\n",
       "</style>\n",
       "<table border=\"1\" class=\"dataframe\">\n",
       "  <thead>\n",
       "    <tr style=\"text-align: right;\">\n",
       "      <th></th>\n",
       "      <th>sentiment</th>\n",
       "      <th>text</th>\n",
       "      <th>label</th>\n",
       "    </tr>\n",
       "  </thead>\n",
       "  <tbody>\n",
       "    <tr>\n",
       "      <th>0</th>\n",
       "      <td>0</td>\n",
       "      <td>@switchfoot http://twitpic.com/2y1zl - Awww, t...</td>\n",
       "      <td>negative</td>\n",
       "    </tr>\n",
       "    <tr>\n",
       "      <th>1</th>\n",
       "      <td>0</td>\n",
       "      <td>is upset that he can't update his Facebook by ...</td>\n",
       "      <td>negative</td>\n",
       "    </tr>\n",
       "    <tr>\n",
       "      <th>2</th>\n",
       "      <td>0</td>\n",
       "      <td>@Kenichan I dived many times for the ball. Man...</td>\n",
       "      <td>negative</td>\n",
       "    </tr>\n",
       "    <tr>\n",
       "      <th>3</th>\n",
       "      <td>0</td>\n",
       "      <td>my whole body feels itchy and like its on fire</td>\n",
       "      <td>negative</td>\n",
       "    </tr>\n",
       "    <tr>\n",
       "      <th>4</th>\n",
       "      <td>0</td>\n",
       "      <td>@nationwideclass no, it's not behaving at all....</td>\n",
       "      <td>negative</td>\n",
       "    </tr>\n",
       "    <tr>\n",
       "      <th>...</th>\n",
       "      <td>...</td>\n",
       "      <td>...</td>\n",
       "      <td>...</td>\n",
       "    </tr>\n",
       "    <tr>\n",
       "      <th>1599995</th>\n",
       "      <td>1</td>\n",
       "      <td>Just woke up. Having no school is the best fee...</td>\n",
       "      <td>positive</td>\n",
       "    </tr>\n",
       "    <tr>\n",
       "      <th>1599996</th>\n",
       "      <td>1</td>\n",
       "      <td>TheWDB.com - Very cool to hear old Walt interv...</td>\n",
       "      <td>positive</td>\n",
       "    </tr>\n",
       "    <tr>\n",
       "      <th>1599997</th>\n",
       "      <td>1</td>\n",
       "      <td>Are you ready for your MoJo Makeover? Ask me f...</td>\n",
       "      <td>positive</td>\n",
       "    </tr>\n",
       "    <tr>\n",
       "      <th>1599998</th>\n",
       "      <td>1</td>\n",
       "      <td>Happy 38th Birthday to my boo of alll time!!! ...</td>\n",
       "      <td>positive</td>\n",
       "    </tr>\n",
       "    <tr>\n",
       "      <th>1599999</th>\n",
       "      <td>1</td>\n",
       "      <td>happy #charitytuesday @theNSPCC @SparksCharity...</td>\n",
       "      <td>positive</td>\n",
       "    </tr>\n",
       "  </tbody>\n",
       "</table>\n",
       "<p>1600000 rows × 3 columns</p>\n",
       "</div>"
      ],
      "text/plain": [
       "         sentiment                                               text  \\\n",
       "0                0  @switchfoot http://twitpic.com/2y1zl - Awww, t...   \n",
       "1                0  is upset that he can't update his Facebook by ...   \n",
       "2                0  @Kenichan I dived many times for the ball. Man...   \n",
       "3                0    my whole body feels itchy and like its on fire    \n",
       "4                0  @nationwideclass no, it's not behaving at all....   \n",
       "...            ...                                                ...   \n",
       "1599995          1  Just woke up. Having no school is the best fee...   \n",
       "1599996          1  TheWDB.com - Very cool to hear old Walt interv...   \n",
       "1599997          1  Are you ready for your MoJo Makeover? Ask me f...   \n",
       "1599998          1  Happy 38th Birthday to my boo of alll time!!! ...   \n",
       "1599999          1  happy #charitytuesday @theNSPCC @SparksCharity...   \n",
       "\n",
       "            label  \n",
       "0        negative  \n",
       "1        negative  \n",
       "2        negative  \n",
       "3        negative  \n",
       "4        negative  \n",
       "...           ...  \n",
       "1599995  positive  \n",
       "1599996  positive  \n",
       "1599997  positive  \n",
       "1599998  positive  \n",
       "1599999  positive  \n",
       "\n",
       "[1600000 rows x 3 columns]"
      ]
     },
     "execution_count": 54,
     "metadata": {},
     "output_type": "execute_result"
    }
   ],
   "source": [
    "data"
   ]
  },
  {
   "cell_type": "code",
   "execution_count": 76,
   "id": "d05308a4",
   "metadata": {},
   "outputs": [],
   "source": [
    "data_test = sample_dataset(data, 5000)\n",
    "data_test.text = text_processing(data_test.text)"
   ]
  },
  {
   "cell_type": "code",
   "execution_count": 77,
   "id": "9ee703ce",
   "metadata": {},
   "outputs": [
    {
     "data": {
      "text/html": [
       "<div>\n",
       "<style scoped>\n",
       "    .dataframe tbody tr th:only-of-type {\n",
       "        vertical-align: middle;\n",
       "    }\n",
       "\n",
       "    .dataframe tbody tr th {\n",
       "        vertical-align: top;\n",
       "    }\n",
       "\n",
       "    .dataframe thead th {\n",
       "        text-align: right;\n",
       "    }\n",
       "</style>\n",
       "<table border=\"1\" class=\"dataframe\">\n",
       "  <thead>\n",
       "    <tr style=\"text-align: right;\">\n",
       "      <th></th>\n",
       "      <th>sentiment</th>\n",
       "      <th>text</th>\n",
       "      <th>label</th>\n",
       "    </tr>\n",
       "  </thead>\n",
       "  <tbody>\n",
       "    <tr>\n",
       "      <th>906160</th>\n",
       "      <td>1</td>\n",
       "      <td>follow aswel twitter follow lool www twitter c...</td>\n",
       "      <td>positive</td>\n",
       "    </tr>\n",
       "    <tr>\n",
       "      <th>498875</th>\n",
       "      <td>0</td>\n",
       "      <td>well not movie time went wrong theater</td>\n",
       "      <td>negative</td>\n",
       "    </tr>\n",
       "    <tr>\n",
       "      <th>546533</th>\n",
       "      <td>0</td>\n",
       "      <td>kaileebaylor haha sarahs game though</td>\n",
       "      <td>negative</td>\n",
       "    </tr>\n",
       "    <tr>\n",
       "      <th>151875</th>\n",
       "      <td>0</td>\n",
       "      <td>cavaliers hurt feelings tonight</td>\n",
       "      <td>negative</td>\n",
       "    </tr>\n",
       "    <tr>\n",
       "      <th>1445443</th>\n",
       "      <td>1</td>\n",
       "      <td>ashleyltmsyf missing every day good day angel fan</td>\n",
       "      <td>positive</td>\n",
       "    </tr>\n",
       "    <tr>\n",
       "      <th>...</th>\n",
       "      <td>...</td>\n",
       "      <td>...</td>\n",
       "      <td>...</td>\n",
       "    </tr>\n",
       "    <tr>\n",
       "      <th>244546</th>\n",
       "      <td>0</td>\n",
       "      <td>tommylaad know fail things time</td>\n",
       "      <td>negative</td>\n",
       "    </tr>\n",
       "    <tr>\n",
       "      <th>1209968</th>\n",
       "      <td>1</td>\n",
       "      <td>robkardashian heck winning thurs</td>\n",
       "      <td>positive</td>\n",
       "    </tr>\n",
       "    <tr>\n",
       "      <th>893327</th>\n",
       "      <td>1</td>\n",
       "      <td>joyofzen time</td>\n",
       "      <td>positive</td>\n",
       "    </tr>\n",
       "    <tr>\n",
       "      <th>199996</th>\n",
       "      <td>0</td>\n",
       "      <td>work</td>\n",
       "      <td>negative</td>\n",
       "    </tr>\n",
       "    <tr>\n",
       "      <th>861446</th>\n",
       "      <td>1</td>\n",
       "      <td>heidimontag stop listening new songs especiall...</td>\n",
       "      <td>positive</td>\n",
       "    </tr>\n",
       "  </tbody>\n",
       "</table>\n",
       "<p>10000 rows × 3 columns</p>\n",
       "</div>"
      ],
      "text/plain": [
       "         sentiment                                               text  \\\n",
       "906160           1  follow aswel twitter follow lool www twitter c...   \n",
       "498875           0             well not movie time went wrong theater   \n",
       "546533           0               kaileebaylor haha sarahs game though   \n",
       "151875           0                    cavaliers hurt feelings tonight   \n",
       "1445443          1  ashleyltmsyf missing every day good day angel fan   \n",
       "...            ...                                                ...   \n",
       "244546           0                    tommylaad know fail things time   \n",
       "1209968          1                   robkardashian heck winning thurs   \n",
       "893327           1                                      joyofzen time   \n",
       "199996           0                                               work   \n",
       "861446           1  heidimontag stop listening new songs especiall...   \n",
       "\n",
       "            label  \n",
       "906160   positive  \n",
       "498875   negative  \n",
       "546533   negative  \n",
       "151875   negative  \n",
       "1445443  positive  \n",
       "...           ...  \n",
       "244546   negative  \n",
       "1209968  positive  \n",
       "893327   positive  \n",
       "199996   negative  \n",
       "861446   positive  \n",
       "\n",
       "[10000 rows x 3 columns]"
      ]
     },
     "execution_count": 77,
     "metadata": {},
     "output_type": "execute_result"
    }
   ],
   "source": [
    "data_test"
   ]
  },
  {
   "cell_type": "code",
   "execution_count": 78,
   "id": "26f1c603",
   "metadata": {},
   "outputs": [],
   "source": [
    "num_classes = len(data_test.sentiment.unique())\n",
    "\n",
    "bert_tokenizer = BertTokenizer.from_pretrained(\"bert-base-uncased\")\n",
    "bert_model = TFBertForSequenceClassification.from_pretrained('bert-base-uncased',num_labels=num_classes)"
   ]
  },
  {
   "cell_type": "code",
   "execution_count": 79,
   "id": "2aab5dde",
   "metadata": {},
   "outputs": [
    {
     "data": {
      "text/plain": [
       "(10000, 10000)"
      ]
     },
     "execution_count": 79,
     "metadata": {},
     "output_type": "execute_result"
    }
   ],
   "source": [
    "sentences = data_test['text']\n",
    "labels = data_test['sentiment']\n",
    "len(sentences), len(labels)"
   ]
  },
  {
   "cell_type": "code",
   "execution_count": 80,
   "id": "b921de56",
   "metadata": {},
   "outputs": [],
   "source": [
    "input_ids=[]\n",
    "attention_masks=[]\n",
    "\n",
    "for sent in sentences:\n",
    "    bert_inp=bert_tokenizer.encode_plus(sent,add_special_tokens = True,max_length =64,pad_to_max_length = True,return_attention_mask = True, truncation=True)\n",
    "    input_ids.append(bert_inp['input_ids'])\n",
    "    attention_masks.append(bert_inp['attention_mask'])\n",
    "\n",
    "input_ids=np.asarray(input_ids)\n",
    "attention_masks=np.array(attention_masks)\n",
    "labels=np.array(labels)"
   ]
  },
  {
   "cell_type": "code",
   "execution_count": 81,
   "id": "c4053efe",
   "metadata": {},
   "outputs": [
    {
     "data": {
      "text/plain": [
       "(10000, 10000, 10000)"
      ]
     },
     "execution_count": 81,
     "metadata": {},
     "output_type": "execute_result"
    }
   ],
   "source": [
    "len(input_ids),len(attention_masks),len(labels)"
   ]
  },
  {
   "cell_type": "code",
   "execution_count": 82,
   "id": "ce56b8e1",
   "metadata": {},
   "outputs": [
    {
     "name": "stdout",
     "output_type": "stream",
     "text": [
      "Preparing the pickle file.....\n",
      "Pickle files saved as  ./data/bert_inp.pkl ./data/bert_mask.pkl ./data/bert_label.pkl\n"
     ]
    }
   ],
   "source": [
    "print('Preparing the pickle file.....')\n",
    "\n",
    "pickle_inp_path='./data/bert_inp.pkl'\n",
    "pickle_mask_path='./data/bert_mask.pkl'\n",
    "pickle_label_path='./data/bert_label.pkl'\n",
    "\n",
    "pickle.dump((input_ids),open(pickle_inp_path,'wb'))\n",
    "pickle.dump((attention_masks),open(pickle_mask_path,'wb'))\n",
    "pickle.dump((labels),open(pickle_label_path,'wb'))\n",
    "\n",
    "print('Pickle files saved as ',pickle_inp_path,pickle_mask_path,pickle_label_path)"
   ]
  },
  {
   "cell_type": "code",
   "execution_count": 83,
   "id": "3a923740",
   "metadata": {},
   "outputs": [
    {
     "name": "stdout",
     "output_type": "stream",
     "text": [
      "Loading the saved pickle files..\n",
      "Input shape (10000, 64) Attention mask shape (10000, 64) Input label shape (10000,)\n"
     ]
    }
   ],
   "source": [
    "print('Loading the saved pickle files..')\n",
    "\n",
    "input_ids=pickle.load(open(pickle_inp_path, 'rb'))\n",
    "attention_masks=pickle.load(open(pickle_mask_path, 'rb'))\n",
    "labels=pickle.load(open(pickle_label_path, 'rb'))\n",
    "\n",
    "print('Input shape {} Attention mask shape {} Input label shape {}'.format(input_ids.shape,attention_masks.shape,labels.shape))"
   ]
  },
  {
   "cell_type": "code",
   "execution_count": 84,
   "id": "c0deaee0",
   "metadata": {},
   "outputs": [
    {
     "name": "stdout",
     "output_type": "stream",
     "text": [
      "Train inp shape (8000, 64) Val input shape (2000, 64)\n",
      "Train label shape (8000,) Val label shape (2000,)\n",
      "Train attention mask shape (8000, 64) Val attention mask shape (2000, 64)\n"
     ]
    }
   ],
   "source": [
    "train_inp,val_inp,train_label,val_label,train_mask,val_mask=train_test_split(input_ids,labels,attention_masks,test_size=0.2)\n",
    "\n",
    "print('Train inp shape {} Val input shape {}\\nTrain label shape {} Val label shape {}\\nTrain attention mask shape {} Val attention mask shape {}'.format(train_inp.shape,val_inp.shape,train_label.shape,val_label.shape,train_mask.shape,val_mask.shape))"
   ]
  },
  {
   "cell_type": "code",
   "execution_count": 85,
   "id": "bb2641db",
   "metadata": {},
   "outputs": [
    {
     "name": "stdout",
     "output_type": "stream",
     "text": [
      "Model: \"tf_bert_for_sequence_classification_3\"\n",
      "_________________________________________________________________\n",
      " Layer (type)                Output Shape              Param #   \n",
      "=================================================================\n",
      " bert (TFBertMainLayer)      multiple                  109482240 \n",
      "                                                                 \n",
      " dropout_151 (Dropout)       multiple                  0         \n",
      "                                                                 \n",
      " classifier (Dense)          multiple                  1538      \n",
      "                                                                 \n",
      "=================================================================\n",
      "Total params: 109,483,778\n",
      "Trainable params: 109,483,778\n",
      "Non-trainable params: 0\n",
      "_________________________________________________________________\n",
      "\n",
      "Bert Model None\n"
     ]
    }
   ],
   "source": [
    "log_dir='tensorboard_data/tb_bert'\n",
    "model_save_path='./models/bert_model.h5'\n",
    "\n",
    "callbacks = [tf.keras.callbacks.ModelCheckpoint(filepath=model_save_path,save_weights_only=True,monitor='val_loss',mode='min',save_best_only=True),keras.callbacks.TensorBoard(log_dir=log_dir)]\n",
    "\n",
    "print('\\nBert Model',bert_model.summary())\n",
    "\n",
    "loss = tf.keras.losses.SparseCategoricalCrossentropy(from_logits=True)\n",
    "metric = tf.keras.metrics.SparseCategoricalAccuracy('accuracy')\n",
    "optimizer = tf.keras.optimizers.Adam(learning_rate=2e-5,epsilon=1e-08)\n",
    "\n",
    "bert_model.compile(loss=loss,optimizer=optimizer,metrics=[metric])"
   ]
  },
  {
   "cell_type": "code",
   "execution_count": 88,
   "id": "1afa1a85",
   "metadata": {},
   "outputs": [],
   "source": [
    "# start = perf_counter()\n",
    "\n",
    "# history=bert_model.fit([train_inp,train_mask],train_label,batch_size=16,epochs=3,\n",
    "#                        validation_data=([val_inp,val_mask],val_label),callbacks=callbacks)\n",
    "\n",
    "# end = perf_counter()\n",
    "# print(f\"Time taken to execute code : {end-start}\")"
   ]
  },
  {
   "cell_type": "code",
   "execution_count": 69,
   "id": "ce3effc6",
   "metadata": {},
   "outputs": [],
   "source": [
    "%load_ext tensorboard"
   ]
  },
  {
   "cell_type": "code",
   "execution_count": 79,
   "id": "9b9129e9",
   "metadata": {},
   "outputs": [],
   "source": [
    "from sklearn.metrics import confusion_matrix,f1_score,classification_report"
   ]
  },
  {
   "cell_type": "code",
   "execution_count": 87,
   "id": "e2ac4c19",
   "metadata": {},
   "outputs": [
    {
     "name": "stdout",
     "output_type": "stream",
     "text": [
      "63/63 [==============================] - 11s 121ms/step\n",
      "F1 score 0.8018154311649016\n",
      "Classification Report\n",
      "              precision    recall  f1-score   support\n",
      "\n",
      "           0       0.81      0.80      0.81      1015\n",
      "           1       0.80      0.81      0.80       985\n",
      "\n",
      "    accuracy                           0.80      2000\n",
      "   macro avg       0.80      0.80      0.80      2000\n",
      "weighted avg       0.80      0.80      0.80      2000\n",
      "\n"
     ]
    }
   ],
   "source": [
    "model_save_path=r\"D:\\Users\\Loulou\\Dropbox\\OpenClassrooms\\P7\\models\\bert_model.h5\"\n",
    "\n",
    "trained_model = TFBertForSequenceClassification.from_pretrained('bert-base-uncased',num_labels=2)\n",
    "trained_model.compile(loss=loss,optimizer=optimizer, metrics=[metric])\n",
    "trained_model.load_weights(model_save_path)\n",
    "\n",
    "preds = trained_model.predict([val_inp,val_mask],batch_size=32)\n",
    "pred_labels = np.argmax(preds.logits, axis=1)\n",
    "f1 = f1_score(val_label,pred_labels)\n",
    "print('F1 score',f1)\n",
    "print('Classification Report')\n",
    "print(classification_report(val_label,pred_labels))\n"
   ]
  }
 ],
 "metadata": {
  "kernelspec": {
   "display_name": "Python 3.9.12 ('base')",
   "language": "python",
   "name": "python3"
  },
  "language_info": {
   "codemirror_mode": {
    "name": "ipython",
    "version": 3
   },
   "file_extension": ".py",
   "mimetype": "text/x-python",
   "name": "python",
   "nbconvert_exporter": "python",
   "pygments_lexer": "ipython3",
   "version": "3.9.12"
  },
  "vscode": {
   "interpreter": {
    "hash": "cee2a8bf78ed58fe7d4a6da4c01dc73c50fe79a52336feed85a35ce76368bd76"
   }
  }
 },
 "nbformat": 4,
 "nbformat_minor": 5
}
